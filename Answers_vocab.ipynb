{
 "cells": [
  {
   "cell_type": "code",
   "execution_count": 31,
   "metadata": {},
   "outputs": [],
   "source": [
    "import numpy as np\n",
    "import pandas as pd\n",
    "import json\n",
    "import re\n",
    "from collections import defaultdict"
   ]
  },
  {
   "cell_type": "code",
   "execution_count": 32,
   "metadata": {},
   "outputs": [],
   "source": [
    "file=r\"C:\\Users\\PIYUSH\\Desktop\\v2_mscoco_train2014_annotations.json\""
   ]
  },
  {
   "cell_type": "code",
   "execution_count": 33,
   "metadata": {},
   "outputs": [],
   "source": [
    "with open(file,'r') as myfile:\n",
    "    data=myfile.read()"
   ]
  },
  {
   "cell_type": "code",
   "execution_count": 34,
   "metadata": {},
   "outputs": [],
   "source": [
    "data=json.loads(data)['annotations']"
   ]
  },
  {
   "cell_type": "code",
   "execution_count": 22,
   "metadata": {},
   "outputs": [],
   "source": [
    "def make_vocab_answers(annotations, n_answers):\n",
    "    \"\"\"Make dictionary for top n answers and save them into text file.\"\"\"\n",
    "    answers = defaultdict(lambda: 0)\n",
    "    for annotation in annotations:\n",
    "            for answer in annotation['answers']:\n",
    "                word = answer['answer']\n",
    "                if re.search(r\"[^\\w\\s]\", word):\n",
    "                    continue\n",
    "                answers[word] += 1\n",
    "                \n",
    "    answers = sorted(answers, key=answers.get, reverse=True)\n",
    "    assert('<unk>' not in answers)\n",
    "    top_answers = ['<unk>'] + answers[:n_answers-1] # '-1' is due to '<unk>'\n",
    "    \n",
    "    with open('vocab_answers.txt', 'w') as f:\n",
    "        f.writelines([w+'\\n' for w in top_answers])\n",
    "\n",
    "    print('Make vocabulary for answers')\n",
    "    print('The number of total words of answers: %d' % len(answers))\n",
    "    print('Keep top %d answers into vocab' % n_answers)"
   ]
  },
  {
   "cell_type": "code",
   "execution_count": 23,
   "metadata": {},
   "outputs": [
    {
     "name": "stdout",
     "output_type": "stream",
     "text": [
      "Make vocabulary for answers\n",
      "The number of total words of answers: 135203\n",
      "Keep top 50 answers into vocab\n"
     ]
    }
   ],
   "source": [
    "make_vocab_answers(data,50## this saves a text file in the same folder)"
   ]
  },
  {
   "cell_type": "code",
   "execution_count": 29,
   "metadata": {},
   "outputs": [],
   "source": [
    "SENTENCE_SPLIT_REGEX = re.compile(r'(\\W+)')\n",
    "\n",
    "\n",
    "def tokenize(sentence):\n",
    "    tokens = SENTENCE_SPLIT_REGEX.split(sentence.lower())\n",
    "    tokens = [t.strip() for t in tokens if len(t.strip()) > 0]\n",
    "    return tokens\n",
    "def load_str_list(fname):\n",
    "    with open(fname) as f:\n",
    "        lines = f.readlines()\n",
    "    lines = [l.strip() for l in lines]\n",
    "    return lines\n",
    "\n",
    "\n",
    "class VocabDict:\n",
    "\n",
    "    def __init__(self, vocab_file):\n",
    "        self.word_list = load_str_list(vocab_file)\n",
    "        self.word2idx_dict = {w:n_w for n_w, w in enumerate(self.word_list)}\n",
    "        self.vocab_size = len(self.word_list)\n",
    "        self.unk2idx = self.word2idx_dict['<unk>'] if '<unk>' in self.word2idx_dict else None\n",
    "    def idx2word(self, n_w):\n",
    "\n",
    "        return self.word_list[n_w]\n",
    "\n",
    "    def word2idx(self, w):\n",
    "        if w in self.word2idx_dict:\n",
    "            return self.word2idx_dict[w]\n",
    "        elif self.unk2idx is not None:\n",
    "            return self.unk2idx\n",
    "        else:\n",
    "            raise ValueError('word %s not in dictionary (while dictionary does not contain <unk>)' % w)\n",
    "\n",
    "    def tokenize_and_index(self, sentence):\n",
    "        inds = [self.word2idx(w) for w in tokenize(sentence)]\n",
    "\n",
    "        return inds\n",
    "        "
   ]
  },
  {
   "cell_type": "code",
   "execution_count": 30,
   "metadata": {},
   "outputs": [
    {
     "data": {
      "text/plain": [
       "{'<unk>': 0,\n",
       " 'no': 1,\n",
       " 'yes': 2,\n",
       " '2': 3,\n",
       " '1': 4,\n",
       " 'white': 5,\n",
       " '3': 6,\n",
       " 'red': 7,\n",
       " 'black': 8,\n",
       " 'blue': 9,\n",
       " '0': 10,\n",
       " '4': 11,\n",
       " 'green': 12,\n",
       " 'brown': 13,\n",
       " 'yellow': 14,\n",
       " '5': 15,\n",
       " 'gray': 16,\n",
       " '6': 17,\n",
       " 'baseball': 18,\n",
       " 'nothing': 19,\n",
       " 'frisbee': 20,\n",
       " 'tennis': 21,\n",
       " 'right': 22,\n",
       " 'left': 23,\n",
       " 'orange': 24,\n",
       " 'wood': 25,\n",
       " 'bathroom': 26,\n",
       " 'pizza': 27,\n",
       " 'none': 28,\n",
       " 'pink': 29,\n",
       " 'kitchen': 30,\n",
       " '7': 31,\n",
       " '8': 32,\n",
       " 'cat': 33,\n",
       " 'dog': 34,\n",
       " 'skiing': 35,\n",
       " 'grass': 36,\n",
       " 'water': 37,\n",
       " 'man': 38,\n",
       " 'skateboarding': 39,\n",
       " 'silver': 40,\n",
       " '10': 41,\n",
       " 'kite': 42,\n",
       " 'horse': 43,\n",
       " 'black and white': 44,\n",
       " 'skateboard': 45,\n",
       " 'surfing': 46,\n",
       " 'snow': 47,\n",
       " 'giraffe': 48,\n",
       " 'tan': 49}"
      ]
     },
     "execution_count": 30,
     "metadata": {},
     "output_type": "execute_result"
    }
   ],
   "source": [
    "ans_vocab = VocabDict('vocab_answers.txt')\n",
    "ans_vocab.word2idx_dict"
   ]
  },
  {
   "cell_type": "code",
   "execution_count": 27,
   "metadata": {},
   "outputs": [
    {
     "data": {
      "text/plain": [
       "<__main__.VocabDict at 0x29109c19128>"
      ]
     },
     "execution_count": 27,
     "metadata": {},
     "output_type": "execute_result"
    }
   ],
   "source": []
  }
 ],
 "metadata": {
  "kernelspec": {
   "display_name": "Python 3",
   "language": "python",
   "name": "python3"
  },
  "language_info": {
   "codemirror_mode": {
    "name": "ipython",
    "version": 3
   },
   "file_extension": ".py",
   "mimetype": "text/x-python",
   "name": "python",
   "nbconvert_exporter": "python",
   "pygments_lexer": "ipython3",
   "version": "3.6.6"
  }
 },
 "nbformat": 4,
 "nbformat_minor": 2
}
