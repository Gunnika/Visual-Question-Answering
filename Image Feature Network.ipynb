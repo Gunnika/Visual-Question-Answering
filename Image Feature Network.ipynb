{
 "cells": [
  {
   "cell_type": "code",
   "execution_count": 1,
   "metadata": {},
   "outputs": [],
   "source": [
    "import torch\n"
   ]
  },
  {
   "cell_type": "code",
   "execution_count": 2,
   "metadata": {},
   "outputs": [],
   "source": [
    "use_cuda = torch.cuda.is_available()\n",
    "device = torch.device(\"cuda\" if use_cuda else \"cpu\")"
   ]
  },
  {
   "cell_type": "code",
   "execution_count": 4,
   "metadata": {},
   "outputs": [],
   "source": [
    "import torchvision.transforms as transforms\n",
    "import torchvision.models as models\n",
    "from PIL import Image"
   ]
  },
  {
   "cell_type": "code",
   "execution_count": null,
   "metadata": {},
   "outputs": [],
   "source": [
    "def get_transform(target_size, central_fraction=1.0):\n",
    "    return transforms.Compose([\n",
    "        transforms.Scale(int(target_size / central_fraction)),\n",
    "        transforms.CenterCrop(target_size),\n",
    "        transforms.ToTensor(),\n",
    "        transforms.Normalize(mean=[0.485, 0.456, 0.406],\n",
    "                             std=[0.229, 0.224, 0.225]),\n",
    "    ])\n",
    "\n",
    "class ResNetLayer4(torch.nn.Module):\n",
    "    def __init__(self):\n",
    "        super(ResNetLayer4, self).__init__()\n",
    "        self.model = resnet.resnet152(pretrained=True)\n",
    "        \n",
    "        # from  visual_qa_analysis/config.py\n",
    "        image_size = 448  # scale shorter end of image to this size and centre crop\n",
    "        #output_size = image_size // 32  # size of the feature maps after processing through a network\n",
    "        output_features = 2048  # number of feature maps thereof\n",
    "        central_fraction = 0.875 # only take this much of the centre when scaling and centre cropping\n",
    "\n",
    "        self.transform = get_transform(image_size, central_fraction)\n",
    "\n",
    "        def save_output(module, input, output):\n",
    "            self.buffer = output\n",
    "        self.model.layer4.register_forward_hook(save_output)\n",
    "\n",
    "    def forward(self, x):\n",
    "        self.model(x)\n",
    "        return self.buffer\n",
    "    \n",
    "    def image_to_features(self, img_file):\n",
    "        img = Image.open(img_file).convert('RGB')\n",
    "        img_transformed = self.transform(img)\n",
    "        #print(img_transformed.size())\n",
    "        img_batch = img_transformed.unsqueeze(0).to(device)\n",
    "        return self.forward(img_batch) \n",
    "    \n",
    "resnet_layer4 = ResNetLayer4().to(device)  # Downloads 241Mb model when first run"
   ]
  }
 ],
 "metadata": {
  "kernelspec": {
   "display_name": "Python 3",
   "language": "python",
   "name": "python3"
  },
  "language_info": {
   "codemirror_mode": {
    "name": "ipython",
    "version": 3
   },
   "file_extension": ".py",
   "mimetype": "text/x-python",
   "name": "python",
   "nbconvert_exporter": "python",
   "pygments_lexer": "ipython3",
   "version": "3.7.3"
  }
 },
 "nbformat": 4,
 "nbformat_minor": 2
}
