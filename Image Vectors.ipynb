{
 "cells": [
  {
   "cell_type": "markdown",
   "metadata": {},
   "source": [
    "Drive Link for sample data: https://drive.google.com/file/d/1R6HOBJc2368229_BsWBLV0-SbMQlpeIl/view?usp=sharing"
   ]
  },
  {
   "cell_type": "code",
   "execution_count": 1,
   "metadata": {
    "ExecuteTime": {
     "end_time": "2020-02-24T10:34:41.646910Z",
     "start_time": "2020-02-24T10:34:40.766855Z"
    }
   },
   "outputs": [],
   "source": [
    "import os\n",
    "import torch\n",
    "from math import floor\n",
    "from PIL import Image\n",
    "from glob import glob\n",
    "import numpy as np\n",
    "import pandas as pd\n",
    "from torch.utils.data.sampler import SubsetRandomSampler\n",
    "import torch.nn as nn\n",
    "import torch.nn.functional as F\n",
    "import torch.nn.init as init\n",
    "from torch.nn.utils.rnn import pack_padded_sequence"
   ]
  },
  {
   "cell_type": "code",
   "execution_count": null,
   "metadata": {
    "ExecuteTime": {
     "end_time": "2020-02-21T12:10:52.032413Z",
     "start_time": "2020-02-21T12:10:52.027660Z"
    },
    "code_folding": [
     0
    ]
   },
   "outputs": [],
   "source": [
    "#generate filenames from image ids\n",
    "# for i in ids:\n",
    "#     name=str(i)\n",
    "#     l = len(name)\n",
    "#     filename=''.join(['0'for x in range(12-l)])+name+\".jpg\"\n",
    "#     print(filename)"
   ]
  },
  {
   "cell_type": "code",
   "execution_count": 2,
   "metadata": {
    "ExecuteTime": {
     "end_time": "2020-02-24T10:34:42.977347Z",
     "start_time": "2020-02-24T10:34:42.965605Z"
    }
   },
   "outputs": [
    {
     "name": "stdout",
     "output_type": "stream",
     "text": [
      "CUDA is not available.  Training on CPU ...\n"
     ]
    }
   ],
   "source": [
    "use_cuda = torch.cuda.is_available()\n",
    "if not use_cuda:\n",
    "    print('CUDA is not available.  Training on CPU ...')\n",
    "else:\n",
    "    print('CUDA is available!  Training on GPU ...')\n",
    "device = torch.device(\"cuda\" if use_cuda else \"cpu\")"
   ]
  },
  {
   "cell_type": "code",
   "execution_count": 4,
   "metadata": {
    "ExecuteTime": {
     "end_time": "2020-02-24T10:35:20.318095Z",
     "start_time": "2020-02-24T10:35:20.289858Z"
    }
   },
   "outputs": [
    {
     "name": "stdout",
     "output_type": "stream",
     "text": [
      "There are 1913 total images.\n"
     ]
    }
   ],
   "source": [
    "sample_data = np.array(glob(\"/Users/inika/Desktop/Shortcuts/mini/VQA personal/Data/train_sample/*\"))\n",
    "print('There are %d total images.' % len(sample_data))"
   ]
  },
  {
   "cell_type": "code",
   "execution_count": 5,
   "metadata": {
    "ExecuteTime": {
     "end_time": "2020-02-24T10:35:47.142344Z",
     "start_time": "2020-02-24T10:35:23.615037Z"
    }
   },
   "outputs": [],
   "source": [
    "images = []\n",
    "ids = []\n",
    "for f in sample_data:\n",
    "    images.append(Image.open(f))\n",
    "    images[-1].load()\n",
    "    ids.append(int(f.split(\"/\")[-1].split(\".\")[0]))"
   ]
  },
  {
   "cell_type": "code",
   "execution_count": 6,
   "metadata": {
    "ExecuteTime": {
     "end_time": "2020-02-24T10:35:47.152608Z",
     "start_time": "2020-02-24T10:35:47.145621Z"
    }
   },
   "outputs": [
    {
     "name": "stdout",
     "output_type": "stream",
     "text": [
      "<class 'PIL.JpegImagePlugin.JpegImageFile'>\n",
      "1913 1913\n"
     ]
    }
   ],
   "source": [
    "print(type(images[0]))\n",
    "print(len(images),len(ids))"
   ]
  },
  {
   "cell_type": "code",
   "execution_count": null,
   "metadata": {
    "ExecuteTime": {
     "end_time": "2020-02-21T13:20:38.877189Z",
     "start_time": "2020-02-21T13:20:38.058622Z"
    }
   },
   "outputs": [],
   "source": [
    "from img2vec_pytorch import Img2Vec\n",
    "from PIL import Image\n",
    "\n",
    "img2vec = Img2Vec(cuda=False) #Change this for GPU"
   ]
  },
  {
   "cell_type": "code",
   "execution_count": null,
   "metadata": {
    "ExecuteTime": {
     "start_time": "2020-02-21T13:20:40.416Z"
    }
   },
   "outputs": [],
   "source": [
    "batch = 50\n",
    "n = floor(len(images)/batch)\n",
    "vectors = img2vec.get_vec(images[:batch])\n",
    "k = batch\n",
    "for i in range(n):\n",
    "    v = img2vec.get_vec(images[k:k+batch])\n",
    "    vectors = np.concatenate((vectors,v))\n",
    "    k+=batch"
   ]
  },
  {
   "cell_type": "code",
   "execution_count": null,
   "metadata": {},
   "outputs": [],
   "source": [
    "df = pd.DataFrame(zip(ids,vectors),columns=['Image ID','Image Vector'])\n",
    "print(df.head())\n",
    "df.to_csv('image_vectors_with_ids.csv',index=False)"
   ]
  }
 ],
 "metadata": {
  "kernelspec": {
   "display_name": "Python 3",
   "language": "python",
   "name": "python3"
  },
  "language_info": {
   "codemirror_mode": {
    "name": "ipython",
    "version": 3
   },
   "file_extension": ".py",
   "mimetype": "text/x-python",
   "name": "python",
   "nbconvert_exporter": "python",
   "pygments_lexer": "ipython3",
   "version": "3.7.6"
  },
  "toc": {
   "base_numbering": 1,
   "nav_menu": {},
   "number_sections": true,
   "sideBar": true,
   "skip_h1_title": false,
   "title_cell": "Table of Contents",
   "title_sidebar": "Contents",
   "toc_cell": false,
   "toc_position": {},
   "toc_section_display": true,
   "toc_window_display": false
  }
 },
 "nbformat": 4,
 "nbformat_minor": 2
}
