{
 "cells": [
  {
   "cell_type": "markdown",
   "metadata": {},
   "source": [
    "Drive Link for sample data: https://drive.google.com/file/d/1R6HOBJc2368229_BsWBLV0-SbMQlpeIl/view?usp=sharing"
   ]
  },
  {
   "cell_type": "code",
   "execution_count": null,
   "metadata": {
    "ExecuteTime": {
     "end_time": "2020-02-21T11:59:22.950349Z",
     "start_time": "2020-02-21T11:59:19.735187Z"
    }
   },
   "outputs": [],
   "source": [
    "import os\n",
    "import torch\n",
    "from torchvision import datasets\n",
    "from torchvision import transforms\n",
    "from torch.utils.data import DataLoader\n",
    "import torchvision.models as models\n",
    "from PIL import Image\n",
    "from glob import glob\n",
    "import numpy as np\n",
    "import matplotlib.pyplot as plt \n",
    "import pandas as pd\n",
    "from torch.utils.data.sampler import SubsetRandomSampler\n",
    "import pickle as pkl\n",
    "import torch.nn as nn\n",
    "import torch.nn.functional as F\n",
    "import torch.nn.init as init\n",
    "from torch.nn.utils.rnn import pack_padded_sequence\n",
    "\n",
    "%matplotlib inline"
   ]
  },
  {
   "cell_type": "code",
   "execution_count": 2,
   "metadata": {
    "ExecuteTime": {
     "end_time": "2020-02-21T11:59:29.459374Z",
     "start_time": "2020-02-21T11:59:29.401918Z"
    }
   },
   "outputs": [
    {
     "data": {
      "text/html": [
       "<div>\n",
       "<style scoped>\n",
       "    .dataframe tbody tr th:only-of-type {\n",
       "        vertical-align: middle;\n",
       "    }\n",
       "\n",
       "    .dataframe tbody tr th {\n",
       "        vertical-align: top;\n",
       "    }\n",
       "\n",
       "    .dataframe thead th {\n",
       "        text-align: right;\n",
       "    }\n",
       "</style>\n",
       "<table border=\"1\" class=\"dataframe\">\n",
       "  <thead>\n",
       "    <tr style=\"text-align: right;\">\n",
       "      <th></th>\n",
       "      <th>image_id</th>\n",
       "      <th>question</th>\n",
       "      <th>question_id</th>\n",
       "    </tr>\n",
       "  </thead>\n",
       "  <tbody>\n",
       "    <tr>\n",
       "      <th>0</th>\n",
       "      <td>458752</td>\n",
       "      <td>What is this photo taken looking through?</td>\n",
       "      <td>458752000</td>\n",
       "    </tr>\n",
       "    <tr>\n",
       "      <th>1</th>\n",
       "      <td>458752</td>\n",
       "      <td>What position is this man playing?</td>\n",
       "      <td>458752001</td>\n",
       "    </tr>\n",
       "    <tr>\n",
       "      <th>2</th>\n",
       "      <td>458752</td>\n",
       "      <td>What color is the players shirt?</td>\n",
       "      <td>458752002</td>\n",
       "    </tr>\n",
       "    <tr>\n",
       "      <th>3</th>\n",
       "      <td>458752</td>\n",
       "      <td>Is this man a professional baseball player?</td>\n",
       "      <td>458752003</td>\n",
       "    </tr>\n",
       "    <tr>\n",
       "      <th>4</th>\n",
       "      <td>262146</td>\n",
       "      <td>What color is the snow?</td>\n",
       "      <td>262146000</td>\n",
       "    </tr>\n",
       "  </tbody>\n",
       "</table>\n",
       "</div>"
      ],
      "text/plain": [
       "   image_id                                     question  question_id\n",
       "0    458752    What is this photo taken looking through?    458752000\n",
       "1    458752           What position is this man playing?    458752001\n",
       "2    458752             What color is the players shirt?    458752002\n",
       "3    458752  Is this man a professional baseball player?    458752003\n",
       "4    262146                      What color is the snow?    262146000"
      ]
     },
     "execution_count": 2,
     "metadata": {},
     "output_type": "execute_result"
    }
   ],
   "source": [
    "df = pd.read_csv('questiondf.csv',index_col=0)\n",
    "df.head()"
   ]
  },
  {
   "cell_type": "code",
   "execution_count": 3,
   "metadata": {
    "ExecuteTime": {
     "end_time": "2020-02-21T11:59:39.678301Z",
     "start_time": "2020-02-21T11:59:39.660707Z"
    }
   },
   "outputs": [
    {
     "data": {
      "text/plain": [
       "1919"
      ]
     },
     "execution_count": 3,
     "metadata": {},
     "output_type": "execute_result"
    }
   ],
   "source": [
    "image_IDs = list(set(df['image_id']))\n",
    "len(image_IDs)"
   ]
  },
  {
   "cell_type": "code",
   "execution_count": 14,
   "metadata": {
    "ExecuteTime": {
     "end_time": "2020-02-21T12:10:52.032413Z",
     "start_time": "2020-02-21T12:10:52.027660Z"
    },
    "code_folding": [
     0
    ]
   },
   "outputs": [],
   "source": [
    "#generate filenames from image ids\n",
    "# for i in ids:\n",
    "#     name=str(i)\n",
    "#     l = len(name)\n",
    "#     filename=''.join(['0'for x in range(12-l)])+name+\".jpg\"\n",
    "#     print(filename)"
   ]
  },
  {
   "cell_type": "code",
   "execution_count": 4,
   "metadata": {
    "ExecuteTime": {
     "end_time": "2020-02-21T11:59:46.674007Z",
     "start_time": "2020-02-21T11:59:46.668258Z"
    }
   },
   "outputs": [],
   "source": [
    "#check questions corresponding to an image id\n",
    "# df[df['image_id']==49]\n",
    "# sorted(image_IDs)"
   ]
  },
  {
   "cell_type": "code",
   "execution_count": 5,
   "metadata": {
    "ExecuteTime": {
     "end_time": "2020-02-21T11:59:53.472934Z",
     "start_time": "2020-02-21T11:59:53.462632Z"
    }
   },
   "outputs": [
    {
     "name": "stdout",
     "output_type": "stream",
     "text": [
      "CUDA is not available.  Training on CPU ...\n"
     ]
    }
   ],
   "source": [
    "use_cuda = torch.cuda.is_available()\n",
    "if not use_cuda:\n",
    "    print('CUDA is not available.  Training on CPU ...')\n",
    "else:\n",
    "    print('CUDA is available!  Training on GPU ...')\n",
    "device = torch.device(\"cuda\" if use_cuda else \"cpu\")"
   ]
  },
  {
   "cell_type": "code",
   "execution_count": 6,
   "metadata": {
    "ExecuteTime": {
     "end_time": "2020-02-21T12:00:03.902868Z",
     "start_time": "2020-02-21T12:00:03.897960Z"
    }
   },
   "outputs": [],
   "source": [
    "# To initialise dataset\n",
    "# from gluoncv import data, utils\n",
    "# from matplotlib import pyplot as plt\n",
    "\n",
    "# train_dataset = data.COCODetection(splits=['instances_train2017'])\n",
    "# val_dataset = data.COCODetection(splits=['instances_val2017'])\n",
    "# print('Num of training images:', len(train_dataset))\n",
    "# print('Num of validation images:', len(val_dataset))"
   ]
  },
  {
   "cell_type": "code",
   "execution_count": 7,
   "metadata": {
    "ExecuteTime": {
     "end_time": "2020-02-21T12:00:13.503404Z",
     "start_time": "2020-02-21T12:00:12.837964Z"
    }
   },
   "outputs": [
    {
     "name": "stdout",
     "output_type": "stream",
     "text": [
      "There are 118287 total images.\n"
     ]
    }
   ],
   "source": [
    "total_files = np.array(glob(\"/Users/inika/Desktop/Shortcuts/mini/Visual-Question-Answering/Data/train2017/*\"))\n",
    "print('There are %d total images.' % len(total_files))"
   ]
  },
  {
   "cell_type": "code",
   "execution_count": 16,
   "metadata": {
    "ExecuteTime": {
     "end_time": "2020-02-21T12:11:39.176151Z",
     "start_time": "2020-02-21T12:11:31.189709Z"
    }
   },
   "outputs": [],
   "source": [
    "images = []\n",
    "ids = []\n",
    "img_paths = []\n",
    "for f in total_files:\n",
    "    img_id = int(f.split(\"/\")[-1].split(\".\")[0])\n",
    "    if img_id in image_IDs:\n",
    "        img = Image.open(f)\n",
    "        if img.mode=='RGB':\n",
    "            images.append(img)\n",
    "            ids.append(img_id)\n",
    "            img_paths.append(f)"
   ]
  },
  {
   "cell_type": "code",
   "execution_count": 21,
   "metadata": {
    "ExecuteTime": {
     "end_time": "2020-02-21T12:14:28.607633Z",
     "start_time": "2020-02-21T12:14:23.572728Z"
    }
   },
   "outputs": [],
   "source": [
    "# dst = '/Users/inika/Desktop/Shortcuts/mini/Visual-Question-Answering/Data/train_sample'\n",
    "# from shutil import copy\n",
    "# for f in img_paths:\n",
    "#     copy(f, dst)"
   ]
  },
  {
   "cell_type": "code",
   "execution_count": 9,
   "metadata": {
    "ExecuteTime": {
     "end_time": "2020-02-21T12:00:35.162238Z",
     "start_time": "2020-02-21T12:00:35.153448Z"
    }
   },
   "outputs": [],
   "source": [
    "# for i in range(len(images)):\n",
    "#     if images[i].mode!='RGB':\n",
    "#         print(i,images[i].mode) # 8-bit pixels, black and whi"
   ]
  },
  {
   "cell_type": "code",
   "execution_count": 22,
   "metadata": {
    "ExecuteTime": {
     "end_time": "2020-02-21T12:21:26.392442Z",
     "start_time": "2020-02-21T12:21:25.907102Z"
    }
   },
   "outputs": [
    {
     "name": "stderr",
     "output_type": "stream",
     "text": [
      "/usr/local/lib/python3.7/site-packages/torchvision/transforms/transforms.py:219: UserWarning: The use of the transforms.Scale transform is deprecated, please use transforms.Resize instead.\n",
      "  warnings.warn(\"The use of the transforms.Scale transform is deprecated, \" +\n"
     ]
    }
   ],
   "source": [
    "from img2vec_pytorch import Img2Vec\n",
    "from PIL import Image\n",
    "\n",
    "img2vec = Img2Vec(cuda=False)"
   ]
  },
  {
   "cell_type": "code",
   "execution_count": null,
   "metadata": {
    "ExecuteTime": {
     "start_time": "2020-02-21T12:21:28.972Z"
    }
   },
   "outputs": [],
   "source": [
    "vectors = img2vec.get_vec(images)"
   ]
  },
  {
   "cell_type": "code",
   "execution_count": null,
   "metadata": {},
   "outputs": [],
   "source": []
  }
 ],
 "metadata": {
  "kernelspec": {
   "display_name": "Python 3",
   "language": "python",
   "name": "python3"
  },
  "language_info": {
   "codemirror_mode": {
    "name": "ipython",
    "version": 3
   },
   "file_extension": ".py",
   "mimetype": "text/x-python",
   "name": "python",
   "nbconvert_exporter": "python",
   "pygments_lexer": "ipython3",
   "version": "3.7.6"
  },
  "toc": {
   "base_numbering": 1,
   "nav_menu": {},
   "number_sections": true,
   "sideBar": true,
   "skip_h1_title": false,
   "title_cell": "Table of Contents",
   "title_sidebar": "Contents",
   "toc_cell": false,
   "toc_position": {},
   "toc_section_display": true,
   "toc_window_display": false
  }
 },
 "nbformat": 4,
 "nbformat_minor": 2
}
