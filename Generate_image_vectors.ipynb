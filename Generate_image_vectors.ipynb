{
 "cells": [
  {
   "cell_type": "markdown",
   "metadata": {
    "colab_type": "text",
    "id": "Ffx6sr2jATja"
   },
   "source": [
    "Drive Link for train sample data: https://drive.google.com/file/d/1R6HOBJc2368229_BsWBLV0-SbMQlpeIl/view?usp=sharing\n",
    "\n",
    "test: https://drive.google.com/open?id=1r0qw7K4g2MFygXf8PYl2cuIltHqQJg9S"
   ]
  },
  {
   "cell_type": "code",
   "execution_count": 1,
   "metadata": {
    "colab": {},
    "colab_type": "code",
    "id": "XDMc9AIHC4I6"
   },
   "outputs": [],
   "source": [
    "# from google.colab import drive\n",
    "# drive.mount('/content/drive')"
   ]
  },
  {
   "cell_type": "code",
   "execution_count": 1,
   "metadata": {
    "ExecuteTime": {
     "end_time": "2020-02-21T13:41:14.583785Z",
     "start_time": "2020-02-21T13:41:12.858098Z"
    },
    "colab": {},
    "colab_type": "code",
    "id": "WSVO7zUmATjf"
   },
   "outputs": [],
   "source": [
    "import os\n",
    "import torch\n",
    "from math import floor\n",
    "# from torchvision import datasets, transforms\n",
    "# from torch.utils.data import DataLoader\n",
    "# import torchvision.models as models\n",
    "from PIL import Image\n",
    "from glob import glob\n",
    "import numpy as np\n",
    "# import matplotlib.pyplot as plt \n",
    "import pandas as pd\n",
    "from torch.utils.data.sampler import SubsetRandomSampler\n",
    "# import pickle as pkl\n",
    "import torch.nn as nn\n",
    "import torch.nn.functional as F\n",
    "import torch.nn.init as init\n",
    "from torch.nn.utils.rnn import pack_padded_sequence\n",
    "\n",
    "# %matplotlib inline"
   ]
  },
  {
   "cell_type": "code",
   "execution_count": 2,
   "metadata": {
    "ExecuteTime": {
     "end_time": "2020-02-21T13:41:16.040129Z",
     "start_time": "2020-02-21T13:41:16.030498Z"
    },
    "colab": {
     "base_uri": "https://localhost:8080/",
     "height": 34
    },
    "colab_type": "code",
    "id": "n7KvFntpATkC",
    "outputId": "ec8cb77e-efbe-47a7-f005-270da99b9625"
   },
   "outputs": [
    {
     "name": "stdout",
     "output_type": "stream",
     "text": [
      "CUDA is available!  Training on GPU ...\n"
     ]
    }
   ],
   "source": [
    "use_cuda = torch.cuda.is_available()\n",
    "if not use_cuda:\n",
    "    print('CUDA is not available.  Training on CPU ...')\n",
    "else:\n",
    "    print('CUDA is available!  Training on GPU ...')\n",
    "device = torch.device(\"cuda\" if use_cuda else \"cpu\")"
   ]
  },
  {
   "cell_type": "code",
   "execution_count": 3,
   "metadata": {
    "colab": {},
    "colab_type": "code",
    "id": "l7JO_5fOBXrv"
   },
   "outputs": [],
   "source": [
    "# import zipfile\n",
    "# with zipfile.ZipFile('./train_sample.zip', 'r') as zip_ref:\n",
    "#     zip_ref.extractall('sample')"
   ]
  },
  {
   "cell_type": "code",
   "execution_count": 4,
   "metadata": {
    "ExecuteTime": {
     "end_time": "2020-02-21T13:41:18.082426Z",
     "start_time": "2020-02-21T13:41:18.053402Z"
    },
    "colab": {
     "base_uri": "https://localhost:8080/",
     "height": 34
    },
    "colab_type": "code",
    "id": "rDRKUi3fATkT",
    "outputId": "dd11f0e3-d97f-42a8-a68e-7292c778ce01"
   },
   "outputs": [
    {
     "name": "stdout",
     "output_type": "stream",
     "text": [
      "There are 1913 total images.\n"
     ]
    }
   ],
   "source": [
    "sample_data = np.array(glob(\"./train_sample/*\"))\n",
    "print('There are %d total images.' % len(sample_data))"
   ]
  },
  {
   "cell_type": "code",
   "execution_count": 5,
   "metadata": {
    "colab": {},
    "colab_type": "code",
    "id": "KCCcwesZ9qII"
   },
   "outputs": [],
   "source": [
    "# df = pd.read_csv('questiondf.csv')\n",
    "df = pd.read_csv('./Files/questiondf.csv',index_col=0)"
   ]
  },
  {
   "cell_type": "code",
   "execution_count": 6,
   "metadata": {
    "colab": {},
    "colab_type": "code",
    "id": "C6yk3T0M7ASY"
   },
   "outputs": [],
   "source": [
    "excl_ids = np.load('./Files/excluded_img_ids.npy')\n",
    "drop_indices = []\n",
    "for i,row in df.iterrows():\n",
    "    if row['image_id'] in excl_ids:\n",
    "        drop_indices.append(i)\n",
    "\n",
    "df = df.drop(drop_indices)\n",
    "# df = df.drop(columns=['question_type','answers'])"
   ]
  },
  {
   "cell_type": "code",
   "execution_count": 7,
   "metadata": {
    "colab": {
     "base_uri": "https://localhost:8080/",
     "height": 204
    },
    "colab_type": "code",
    "id": "yGjw9rC8bPeE",
    "outputId": "465b0b97-af93-48d2-d914-1ee01750f745"
   },
   "outputs": [
    {
     "data": {
      "text/html": [
       "<div>\n",
       "<style scoped>\n",
       "    .dataframe tbody tr th:only-of-type {\n",
       "        vertical-align: middle;\n",
       "    }\n",
       "\n",
       "    .dataframe tbody tr th {\n",
       "        vertical-align: top;\n",
       "    }\n",
       "\n",
       "    .dataframe thead th {\n",
       "        text-align: right;\n",
       "    }\n",
       "</style>\n",
       "<table border=\"1\" class=\"dataframe\">\n",
       "  <thead>\n",
       "    <tr style=\"text-align: right;\">\n",
       "      <th></th>\n",
       "      <th>image_id</th>\n",
       "      <th>question</th>\n",
       "      <th>question_id</th>\n",
       "    </tr>\n",
       "  </thead>\n",
       "  <tbody>\n",
       "    <tr>\n",
       "      <th>0</th>\n",
       "      <td>458752</td>\n",
       "      <td>What is this photo taken looking through?</td>\n",
       "      <td>458752000</td>\n",
       "    </tr>\n",
       "    <tr>\n",
       "      <th>1</th>\n",
       "      <td>458752</td>\n",
       "      <td>What position is this man playing?</td>\n",
       "      <td>458752001</td>\n",
       "    </tr>\n",
       "    <tr>\n",
       "      <th>2</th>\n",
       "      <td>458752</td>\n",
       "      <td>What color is the players shirt?</td>\n",
       "      <td>458752002</td>\n",
       "    </tr>\n",
       "    <tr>\n",
       "      <th>3</th>\n",
       "      <td>458752</td>\n",
       "      <td>Is this man a professional baseball player?</td>\n",
       "      <td>458752003</td>\n",
       "    </tr>\n",
       "    <tr>\n",
       "      <th>4</th>\n",
       "      <td>262146</td>\n",
       "      <td>What color is the snow?</td>\n",
       "      <td>262146000</td>\n",
       "    </tr>\n",
       "  </tbody>\n",
       "</table>\n",
       "</div>"
      ],
      "text/plain": [
       "   image_id                                     question  question_id\n",
       "0    458752    What is this photo taken looking through?    458752000\n",
       "1    458752           What position is this man playing?    458752001\n",
       "2    458752             What color is the players shirt?    458752002\n",
       "3    458752  Is this man a professional baseball player?    458752003\n",
       "4    262146                      What color is the snow?    262146000"
      ]
     },
     "execution_count": 7,
     "metadata": {},
     "output_type": "execute_result"
    }
   ],
   "source": [
    "df.head()\n",
    "# len(df)"
   ]
  },
  {
   "cell_type": "code",
   "execution_count": 8,
   "metadata": {
    "colab": {},
    "colab_type": "code",
    "id": "IV3uJggD9_fS"
   },
   "outputs": [],
   "source": [
    "# ids = list(df['image_id'])\n",
    "# dfid = np.array(list(df['image_id']))\n",
    "# ids = []\n",
    "# for i in dfid:\n",
    "#   if i not in ids:\n",
    "#     ids.append(i)\n",
    "\n",
    "ids = np.array(list(set(df['image_id'].values)))"
   ]
  },
  {
   "cell_type": "code",
   "execution_count": 9,
   "metadata": {
    "colab": {
     "base_uri": "https://localhost:8080/",
     "height": 34
    },
    "colab_type": "code",
    "id": "r6QbVozqAAS4",
    "outputId": "983e27d9-40b7-484a-9b85-e105c10ec360"
   },
   "outputs": [
    {
     "data": {
      "text/plain": [
       "(1913,)"
      ]
     },
     "execution_count": 9,
     "metadata": {},
     "output_type": "execute_result"
    }
   ],
   "source": [
    "ids.shape"
   ]
  },
  {
   "cell_type": "code",
   "execution_count": null,
   "metadata": {
    "ExecuteTime": {
     "end_time": "2020-02-21T12:10:52.032413Z",
     "start_time": "2020-02-21T12:10:52.027660Z"
    },
    "code_folding": [
     0
    ],
    "colab": {},
    "colab_type": "code",
    "id": "sDEW7AKYATjy"
   },
   "outputs": [],
   "source": [
    "# from image ids\n",
    "directory = './train_sample/'\n",
    "images = []\n",
    "for i in ids:\n",
    "    name=str(i)\n",
    "    l = len(name)\n",
    "    filename=''.join(['0'for x in range(12-l)])+name+\".jpg\"\n",
    "    images.append(Image.open(directory+filename))\n",
    "    images[-1].load()"
   ]
  },
  {
   "cell_type": "code",
   "execution_count": null,
   "metadata": {
    "ExecuteTime": {
     "end_time": "2020-02-21T13:41:43.370538Z",
     "start_time": "2020-02-21T13:41:20.272141Z"
    },
    "colab": {},
    "colab_type": "code",
    "id": "lU0DPNVsATkj"
   },
   "outputs": [],
   "source": [
    "# # from sample data\n",
    "# images = []\n",
    "# ids = []\n",
    "# for f in sample_data:\n",
    "#     ids.append(int(f.split(\"/\")[-1].split(\".\")[0]))\n",
    "#     images.append(Image.open(f))\n",
    "#     images[-1].load()"
   ]
  },
  {
   "cell_type": "code",
   "execution_count": null,
   "metadata": {
    "colab": {},
    "colab_type": "code",
    "id": "ZPt3QAChqvwd"
   },
   "outputs": [],
   "source": [
    "# np.save('test_image_IDs',ids)"
   ]
  },
  {
   "cell_type": "code",
   "execution_count": null,
   "metadata": {
    "colab": {
     "base_uri": "https://localhost:8080/",
     "height": 34
    },
    "colab_type": "code",
    "id": "7Whq7qIocoBg",
    "outputId": "c420a27f-e574-4fbc-df7b-19f40bbfbf2d"
   },
   "outputs": [],
   "source": [
    "# np.equal(sorted(ids),sorted(np.load('/content/test_sample_image_ids.npy'))).all()"
   ]
  },
  {
   "cell_type": "code",
   "execution_count": null,
   "metadata": {
    "ExecuteTime": {
     "end_time": "2020-02-21T13:41:43.389725Z",
     "start_time": "2020-02-21T13:41:43.375252Z"
    },
    "colab": {
     "base_uri": "https://localhost:8080/",
     "height": 34
    },
    "colab_type": "code",
    "id": "1s86ufdGATkq",
    "outputId": "2386ad93-5549-43cb-a821-ae37e693d161"
   },
   "outputs": [],
   "source": [
    "# type(images[0]),len(ids),len(images)"
   ]
  },
  {
   "cell_type": "code",
   "execution_count": null,
   "metadata": {
    "colab": {
     "base_uri": "https://localhost:8080/",
     "height": 275
    },
    "colab_type": "code",
    "id": "9QaXAyd6CDE7",
    "outputId": "8d75588a-9bab-4466-ed39-72effdc1d0b4"
   },
   "outputs": [],
   "source": [
    "# !pip install img2vec_pytorch"
   ]
  },
  {
   "cell_type": "code",
   "execution_count": null,
   "metadata": {
    "ExecuteTime": {
     "end_time": "2020-02-21T13:41:44.327153Z",
     "start_time": "2020-02-21T13:41:43.398466Z"
    },
    "colab": {
     "base_uri": "https://localhost:8080/",
     "height": 137,
     "referenced_widgets": [
      "46ea2880749d4ca3b44bcb7dfe52645c",
      "ca10042d1ebe4edeb46caa4f6a58990d",
      "2fa641276fb040639c97c78b1b4b0a80",
      "22635436922c4c4daea6c6da2928340a",
      "915adf88cf5e4524aecd82986bcbf0dd",
      "8c8c86e7e96a4a45a177b8e66110803c",
      "cc86bac6ae7d41bfb6bc795b50c248e6",
      "4b4449a7c50149a8aee1d2deec328085"
     ]
    },
    "colab_type": "code",
    "id": "PLWVyb9WATk5",
    "outputId": "4ca32540-31a2-48f7-cdd3-94b87968f457"
   },
   "outputs": [],
   "source": [
    "from img2vec_pytorch import Img2Vec\n",
    "from PIL import Image\n",
    "\n",
    "img2vec = Img2Vec(cuda=True) #Change this for GPU"
   ]
  },
  {
   "cell_type": "code",
   "execution_count": null,
   "metadata": {
    "colab": {
     "base_uri": "https://localhost:8080/",
     "height": 51
    },
    "colab_type": "code",
    "id": "0FiRuNLdDeFj",
    "outputId": "7e643371-a010-46ea-f277-004452620c84"
   },
   "outputs": [],
   "source": [
    "# v1 = img2vec.get_vec(images[:2])\n",
    "# v2 = img2vec.get_vec(images[2:4])\n",
    "# v1 = np.concatenate((v1,v2))\n",
    "# v1.shape"
   ]
  },
  {
   "cell_type": "code",
   "execution_count": null,
   "metadata": {
    "ExecuteTime": {
     "end_time": "2020-02-21T13:41:56.322360Z",
     "start_time": "2020-02-21T13:41:56.104065Z"
    },
    "colab": {
     "base_uri": "https://localhost:8080/",
     "height": 238
    },
    "colab_type": "code",
    "id": "jHjeNmjoATlK",
    "outputId": "0ccf698f-4b06-4d71-b007-a515a5d0120c"
   },
   "outputs": [],
   "source": [
    "batch = 50\n",
    "n = floor(len(images)/batch)\n",
    "vectors = img2vec.get_vec(images[:batch])\n",
    "k = batch\n",
    "for i in range(n):\n",
    "  v = img2vec.get_vec(images[k:k+batch])\n",
    "  vectors = np.concatenate((vectors,v))\n",
    "  k+=batch"
   ]
  },
  {
   "cell_type": "code",
   "execution_count": null,
   "metadata": {
    "ExecuteTime": {
     "end_time": "2020-02-21T13:42:12.813221Z",
     "start_time": "2020-02-21T13:42:12.802748Z"
    },
    "colab": {},
    "colab_type": "code",
    "id": "dvyktn1yATlQ"
   },
   "outputs": [],
   "source": [
    "# len(vectors)\n",
    "np.save('/content/train_img_vectors.npy',vectors)"
   ]
  },
  {
   "cell_type": "code",
   "execution_count": null,
   "metadata": {
    "colab": {},
    "colab_type": "code",
    "id": "-vQqeCNHATlc"
   },
   "outputs": [],
   "source": [
    "# vectors = np.load('/content/img_vectors_sample.npy')\n",
    "vectors = np.load('train_img_vectors.npy')"
   ]
  },
  {
   "cell_type": "code",
   "execution_count": null,
   "metadata": {
    "colab": {
     "base_uri": "https://localhost:8080/",
     "height": 34
    },
    "colab_type": "code",
    "id": "Hxf4n05WNWEQ",
    "outputId": "1f69b966-1137-4781-d6a8-44b049220ce8"
   },
   "outputs": [],
   "source": [
    "len(vectors)"
   ]
  },
  {
   "cell_type": "code",
   "execution_count": null,
   "metadata": {
    "colab": {
     "base_uri": "https://localhost:8080/",
     "height": 119
    },
    "colab_type": "code",
    "id": "7T_lUmawrPcV",
    "outputId": "c7bc5164-1061-41b0-ba12-1614f7743746"
   },
   "outputs": [],
   "source": [
    "import pandas as pd\n",
    "df = pd.DataFrame(zip(ids,vectors),columns=['Image ID','Image Vector'])\n",
    "\n",
    "print(df.head())\n",
    "\n",
    "df.to_csv('train_image_vectors_with_ids.csv',index=False)"
   ]
  },
  {
   "cell_type": "code",
   "execution_count": null,
   "metadata": {
    "colab": {
     "base_uri": "https://localhost:8080/",
     "height": 34
    },
    "colab_type": "code",
    "id": "Ec7O4FTzdtyS",
    "outputId": "e8ac7397-2420-4889-8c03-a6e2b4b9d45e"
   },
   "outputs": [],
   "source": [
    "len(df)"
   ]
  },
  {
   "cell_type": "code",
   "execution_count": null,
   "metadata": {},
   "outputs": [],
   "source": [
    "df = pd.DataFrame(zip(ids,vectors),columns=['Image ID','Image Vector'])\n",
    "print(df.head())\n",
    "df.to_csv('image_vectors_with_ids.csv',index=False)"
   ]
  }
 ],
 "metadata": {
  "accelerator": "GPU",
  "colab": {
   "collapsed_sections": [],
   "name": "Image Vectors.ipynb",
   "provenance": []
  },
  "kernelspec": {
   "display_name": "Python 3",
   "language": "python",
   "name": "python3"
  },
  "language_info": {
   "codemirror_mode": {
    "name": "ipython",
    "version": 3
   },
   "file_extension": ".py",
   "mimetype": "text/x-python",
   "name": "python",
   "nbconvert_exporter": "python",
   "pygments_lexer": "ipython3",
   "version": "3.7.3"
  },
  "toc": {
   "base_numbering": 1,
   "nav_menu": {},
   "number_sections": true,
   "sideBar": true,
   "skip_h1_title": false,
   "title_cell": "Table of Contents",
   "title_sidebar": "Contents",
   "toc_cell": false,
   "toc_position": {},
   "toc_section_display": true,
   "toc_window_display": false
  },
  "widgets": {
   "application/vnd.jupyter.widget-state+json": {
    "22635436922c4c4daea6c6da2928340a": {
     "model_module": "@jupyter-widgets/controls",
     "model_name": "HTMLModel",
     "state": {
      "_dom_classes": [],
      "_model_module": "@jupyter-widgets/controls",
      "_model_module_version": "1.5.0",
      "_model_name": "HTMLModel",
      "_view_count": null,
      "_view_module": "@jupyter-widgets/controls",
      "_view_module_version": "1.5.0",
      "_view_name": "HTMLView",
      "description": "",
      "description_tooltip": null,
      "layout": "IPY_MODEL_4b4449a7c50149a8aee1d2deec328085",
      "placeholder": "​",
      "style": "IPY_MODEL_cc86bac6ae7d41bfb6bc795b50c248e6",
      "value": " 44.7M/44.7M [01:58&lt;00:00, 395kB/s]"
     }
    },
    "2fa641276fb040639c97c78b1b4b0a80": {
     "model_module": "@jupyter-widgets/controls",
     "model_name": "IntProgressModel",
     "state": {
      "_dom_classes": [],
      "_model_module": "@jupyter-widgets/controls",
      "_model_module_version": "1.5.0",
      "_model_name": "IntProgressModel",
      "_view_count": null,
      "_view_module": "@jupyter-widgets/controls",
      "_view_module_version": "1.5.0",
      "_view_name": "ProgressView",
      "bar_style": "success",
      "description": "100%",
      "description_tooltip": null,
      "layout": "IPY_MODEL_8c8c86e7e96a4a45a177b8e66110803c",
      "max": 46827520,
      "min": 0,
      "orientation": "horizontal",
      "style": "IPY_MODEL_915adf88cf5e4524aecd82986bcbf0dd",
      "value": 46827520
     }
    },
    "46ea2880749d4ca3b44bcb7dfe52645c": {
     "model_module": "@jupyter-widgets/controls",
     "model_name": "HBoxModel",
     "state": {
      "_dom_classes": [],
      "_model_module": "@jupyter-widgets/controls",
      "_model_module_version": "1.5.0",
      "_model_name": "HBoxModel",
      "_view_count": null,
      "_view_module": "@jupyter-widgets/controls",
      "_view_module_version": "1.5.0",
      "_view_name": "HBoxView",
      "box_style": "",
      "children": [
       "IPY_MODEL_2fa641276fb040639c97c78b1b4b0a80",
       "IPY_MODEL_22635436922c4c4daea6c6da2928340a"
      ],
      "layout": "IPY_MODEL_ca10042d1ebe4edeb46caa4f6a58990d"
     }
    },
    "4b4449a7c50149a8aee1d2deec328085": {
     "model_module": "@jupyter-widgets/base",
     "model_name": "LayoutModel",
     "state": {
      "_model_module": "@jupyter-widgets/base",
      "_model_module_version": "1.2.0",
      "_model_name": "LayoutModel",
      "_view_count": null,
      "_view_module": "@jupyter-widgets/base",
      "_view_module_version": "1.2.0",
      "_view_name": "LayoutView",
      "align_content": null,
      "align_items": null,
      "align_self": null,
      "border": null,
      "bottom": null,
      "display": null,
      "flex": null,
      "flex_flow": null,
      "grid_area": null,
      "grid_auto_columns": null,
      "grid_auto_flow": null,
      "grid_auto_rows": null,
      "grid_column": null,
      "grid_gap": null,
      "grid_row": null,
      "grid_template_areas": null,
      "grid_template_columns": null,
      "grid_template_rows": null,
      "height": null,
      "justify_content": null,
      "justify_items": null,
      "left": null,
      "margin": null,
      "max_height": null,
      "max_width": null,
      "min_height": null,
      "min_width": null,
      "object_fit": null,
      "object_position": null,
      "order": null,
      "overflow": null,
      "overflow_x": null,
      "overflow_y": null,
      "padding": null,
      "right": null,
      "top": null,
      "visibility": null,
      "width": null
     }
    },
    "8c8c86e7e96a4a45a177b8e66110803c": {
     "model_module": "@jupyter-widgets/base",
     "model_name": "LayoutModel",
     "state": {
      "_model_module": "@jupyter-widgets/base",
      "_model_module_version": "1.2.0",
      "_model_name": "LayoutModel",
      "_view_count": null,
      "_view_module": "@jupyter-widgets/base",
      "_view_module_version": "1.2.0",
      "_view_name": "LayoutView",
      "align_content": null,
      "align_items": null,
      "align_self": null,
      "border": null,
      "bottom": null,
      "display": null,
      "flex": null,
      "flex_flow": null,
      "grid_area": null,
      "grid_auto_columns": null,
      "grid_auto_flow": null,
      "grid_auto_rows": null,
      "grid_column": null,
      "grid_gap": null,
      "grid_row": null,
      "grid_template_areas": null,
      "grid_template_columns": null,
      "grid_template_rows": null,
      "height": null,
      "justify_content": null,
      "justify_items": null,
      "left": null,
      "margin": null,
      "max_height": null,
      "max_width": null,
      "min_height": null,
      "min_width": null,
      "object_fit": null,
      "object_position": null,
      "order": null,
      "overflow": null,
      "overflow_x": null,
      "overflow_y": null,
      "padding": null,
      "right": null,
      "top": null,
      "visibility": null,
      "width": null
     }
    },
    "915adf88cf5e4524aecd82986bcbf0dd": {
     "model_module": "@jupyter-widgets/controls",
     "model_name": "ProgressStyleModel",
     "state": {
      "_model_module": "@jupyter-widgets/controls",
      "_model_module_version": "1.5.0",
      "_model_name": "ProgressStyleModel",
      "_view_count": null,
      "_view_module": "@jupyter-widgets/base",
      "_view_module_version": "1.2.0",
      "_view_name": "StyleView",
      "bar_color": null,
      "description_width": "initial"
     }
    },
    "ca10042d1ebe4edeb46caa4f6a58990d": {
     "model_module": "@jupyter-widgets/base",
     "model_name": "LayoutModel",
     "state": {
      "_model_module": "@jupyter-widgets/base",
      "_model_module_version": "1.2.0",
      "_model_name": "LayoutModel",
      "_view_count": null,
      "_view_module": "@jupyter-widgets/base",
      "_view_module_version": "1.2.0",
      "_view_name": "LayoutView",
      "align_content": null,
      "align_items": null,
      "align_self": null,
      "border": null,
      "bottom": null,
      "display": null,
      "flex": null,
      "flex_flow": null,
      "grid_area": null,
      "grid_auto_columns": null,
      "grid_auto_flow": null,
      "grid_auto_rows": null,
      "grid_column": null,
      "grid_gap": null,
      "grid_row": null,
      "grid_template_areas": null,
      "grid_template_columns": null,
      "grid_template_rows": null,
      "height": null,
      "justify_content": null,
      "justify_items": null,
      "left": null,
      "margin": null,
      "max_height": null,
      "max_width": null,
      "min_height": null,
      "min_width": null,
      "object_fit": null,
      "object_position": null,
      "order": null,
      "overflow": null,
      "overflow_x": null,
      "overflow_y": null,
      "padding": null,
      "right": null,
      "top": null,
      "visibility": null,
      "width": null
     }
    },
    "cc86bac6ae7d41bfb6bc795b50c248e6": {
     "model_module": "@jupyter-widgets/controls",
     "model_name": "DescriptionStyleModel",
     "state": {
      "_model_module": "@jupyter-widgets/controls",
      "_model_module_version": "1.5.0",
      "_model_name": "DescriptionStyleModel",
      "_view_count": null,
      "_view_module": "@jupyter-widgets/base",
      "_view_module_version": "1.2.0",
      "_view_name": "StyleView",
      "description_width": ""
     }
    }
   }
  }
 },
 "nbformat": 4,
 "nbformat_minor": 1
}
