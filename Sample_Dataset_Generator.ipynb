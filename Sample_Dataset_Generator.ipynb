{
 "cells": [
  {
   "cell_type": "markdown",
   "metadata": {},
   "source": [
    "Given a list of image ids, generates a sample of the dataset consisiting of those image IDs (only RGB images have been used)"
   ]
  },
  {
   "cell_type": "code",
   "execution_count": 4,
   "metadata": {
    "ExecuteTime": {
     "end_time": "2020-02-23T13:45:03.842708Z",
     "start_time": "2020-02-23T13:45:03.805789Z"
    }
   },
   "outputs": [],
   "source": [
    "import pandas as pd\n",
    "from shutil import copy\n",
    "import numpy as np\n",
    "from glob import glob\n",
    "from PIL import Image"
   ]
  },
  {
   "cell_type": "code",
   "execution_count": 2,
   "metadata": {
    "ExecuteTime": {
     "end_time": "2020-02-23T13:44:10.745030Z",
     "start_time": "2020-02-23T13:44:10.708584Z"
    }
   },
   "outputs": [],
   "source": [
    "df = pd.read_csv('questiondf.csv',index_col=0) #csv from df from annotations\n",
    "image_IDs = list(set(df['image_id']))"
   ]
  },
  {
   "cell_type": "code",
   "execution_count": null,
   "metadata": {},
   "outputs": [],
   "source": [
    "#check questions corresponding to an image id\n",
    "# df[df['image_id']==49]\n",
    "# sorted(image_IDs)"
   ]
  },
  {
   "cell_type": "code",
   "execution_count": 5,
   "metadata": {
    "ExecuteTime": {
     "end_time": "2020-02-23T13:45:34.808442Z",
     "start_time": "2020-02-23T13:45:05.268632Z"
    }
   },
   "outputs": [
    {
     "name": "stdout",
     "output_type": "stream",
     "text": [
      "There are 118287 total images.\n"
     ]
    }
   ],
   "source": [
    "total_files = np.array(glob(\"/Users/inika/Desktop/Shortcuts/mini/Visual-Question-Answering/Data/train2017/*\"))\n",
    "print('There are %d total images.' % len(total_files))\n",
    "\n",
    "# images = [] # list of PIL images\n",
    "# ids = []    # list of image IDs (only RGB)\n",
    "img_paths = [] #list of image paths (only RGB)\n",
    "\n",
    "for f in total_files:\n",
    "    img_id = int(f.split(\"/\")[-1].split(\".\")[0])\n",
    "    if img_id in image_IDs:\n",
    "        img = Image.open(f)\n",
    "        if img.mode=='RGB':\n",
    "#             images.append(img)\n",
    "#             ids.append(img_id)\n",
    "            img_paths.append(f)\n",
    "        img.load()\n",
    "\n",
    "create sample \n",
    "dst = '/Users/inika/Desktop/Shortcuts/mini/Visual-Question-Answering/Data/train_sample'\n",
    "for f in img_paths:\n",
    "    copy(f, dst)"
   ]
  },
  {
   "cell_type": "code",
   "execution_count": null,
   "metadata": {},
   "outputs": [],
   "source": [
    "# for i in range(len(images)): \n",
    "#     if images[i].mode!='RGB':\n",
    "#         print(i,images[i].mode) # mode: L 8-bit pixels, black and white"
   ]
  }
 ],
 "metadata": {
  "kernelspec": {
   "display_name": "Python 3",
   "language": "python",
   "name": "python3"
  },
  "language_info": {
   "codemirror_mode": {
    "name": "ipython",
    "version": 3
   },
   "file_extension": ".py",
   "mimetype": "text/x-python",
   "name": "python",
   "nbconvert_exporter": "python",
   "pygments_lexer": "ipython3",
   "version": "3.7.3"
  },
  "toc": {
   "base_numbering": 1,
   "nav_menu": {},
   "number_sections": true,
   "sideBar": true,
   "skip_h1_title": false,
   "title_cell": "Table of Contents",
   "title_sidebar": "Contents",
   "toc_cell": false,
   "toc_position": {},
   "toc_section_display": true,
   "toc_window_display": false
  }
 },
 "nbformat": 4,
 "nbformat_minor": 2
}
