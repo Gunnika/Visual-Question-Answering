{
 "nbformat": 4,
 "nbformat_minor": 2,
 "metadata": {
  "language_info": {
   "name": "python",
   "codemirror_mode": {
    "name": "ipython",
    "version": 3
   },
   "version": "3.6.6-final"
  },
  "orig_nbformat": 2,
  "file_extension": ".py",
  "mimetype": "text/x-python",
  "name": "python",
  "npconvert_exporter": "python",
  "pygments_lexer": "ipython3",
  "version": 3,
  "kernelspec": {
   "name": "python36664bita2c1bdda2d9f4671a83e57cadc2b00b1",
   "display_name": "Python 3.6.6 64-bit"
  }
 },
 "cells": [
  {
   "cell_type": "code",
   "execution_count": 66,
   "metadata": {},
   "outputs": [],
   "source": [
    "import json\n",
    "import pandas as pd\n",
    "from pandas.io.json import json_normalize"
   ]
  },
  {
   "cell_type": "code",
   "execution_count": 67,
   "metadata": {},
   "outputs": [],
   "source": [
    "file=r\"C:\\Users\\PIYUSH\\Desktop\\VQA dataset\\Abstract_Scenes\\Training Questions\\OpenEnded_abstract_v002_train2015_questions.json\""
   ]
  },
  {
   "cell_type": "code",
   "execution_count": 68,
   "metadata": {},
   "outputs": [],
   "source": [
    "with open(file,'r') as myfile:\n",
    "    data=myfile.read()"
   ]
  },
  {
   "cell_type": "code",
   "execution_count": 69,
   "metadata": {},
   "outputs": [],
   "source": [
    "data=json.loads(data)"
   ]
  },
  {
   "cell_type": "code",
   "execution_count": 70,
   "metadata": {},
   "outputs": [
    {
     "data": {
      "text/plain": "dict_keys(['info', 'task_type', 'data_type', 'license', 'data_subtype', 'questions'])"
     },
     "execution_count": 70,
     "metadata": {},
     "output_type": "execute_result"
    }
   ],
   "source": [
    "data.keys()"
   ]
  },
  {
   "cell_type": "code",
   "execution_count": 71,
   "metadata": {},
   "outputs": [],
   "source": [
    "data=data['questions']"
   ]
  },
  {
   "cell_type": "code",
   "execution_count": 72,
   "metadata": {},
   "outputs": [
    {
     "data": {
      "text/plain": "list"
     },
     "execution_count": 72,
     "metadata": {},
     "output_type": "execute_result"
    }
   ],
   "source": [
    "type(data)"
   ]
  },
  {
   "cell_type": "code",
   "execution_count": 73,
   "metadata": {},
   "outputs": [],
   "source": [
    "vocab=pd.DataFrame(data)\n"
   ]
  },
  {
   "cell_type": "code",
   "execution_count": 74,
   "metadata": {},
   "outputs": [
    {
     "data": {
      "text/html": "<div>\n<style scoped>\n    .dataframe tbody tr th:only-of-type {\n        vertical-align: middle;\n    }\n\n    .dataframe tbody tr th {\n        vertical-align: top;\n    }\n\n    .dataframe thead th {\n        text-align: right;\n    }\n</style>\n<table border=\"1\" class=\"dataframe\">\n  <thead>\n    <tr style=\"text-align: right;\">\n      <th></th>\n      <th>image_id</th>\n      <th>question</th>\n      <th>question_id</th>\n    </tr>\n  </thead>\n  <tbody>\n    <tr>\n      <th>0</th>\n      <td>11779</td>\n      <td>Who looks happier?</td>\n      <td>117792</td>\n    </tr>\n    <tr>\n      <th>1</th>\n      <td>11779</td>\n      <td>Where is the woman sitting?</td>\n      <td>117790</td>\n    </tr>\n    <tr>\n      <th>2</th>\n      <td>11779</td>\n      <td>Where is the man sitting?</td>\n      <td>117791</td>\n    </tr>\n    <tr>\n      <th>3</th>\n      <td>5536</td>\n      <td>Is this man hungry?</td>\n      <td>55360</td>\n    </tr>\n    <tr>\n      <th>4</th>\n      <td>5536</td>\n      <td>What kind of drink is that?</td>\n      <td>55361</td>\n    </tr>\n    <tr>\n      <th>5</th>\n      <td>5536</td>\n      <td>What color is the carpet?</td>\n      <td>55362</td>\n    </tr>\n    <tr>\n      <th>6</th>\n      <td>16949</td>\n      <td>Who is holding the football?</td>\n      <td>169490</td>\n    </tr>\n    <tr>\n      <th>7</th>\n      <td>16949</td>\n      <td>How is the weather?</td>\n      <td>169491</td>\n    </tr>\n    <tr>\n      <th>8</th>\n      <td>16949</td>\n      <td>Does this woman tie her shoes in the morning?</td>\n      <td>169492</td>\n    </tr>\n    <tr>\n      <th>9</th>\n      <td>19949</td>\n      <td>What is dangerous above the boys head?</td>\n      <td>199490</td>\n    </tr>\n    <tr>\n      <th>10</th>\n      <td>19949</td>\n      <td>What is the circle on the tree?</td>\n      <td>199491</td>\n    </tr>\n    <tr>\n      <th>11</th>\n      <td>19949</td>\n      <td>What is growing besides trees and bushes?</td>\n      <td>199492</td>\n    </tr>\n    <tr>\n      <th>12</th>\n      <td>6502</td>\n      <td>Where are the flowers?</td>\n      <td>65020</td>\n    </tr>\n    <tr>\n      <th>13</th>\n      <td>6502</td>\n      <td>What did the girl kick?</td>\n      <td>65021</td>\n    </tr>\n    <tr>\n      <th>14</th>\n      <td>6502</td>\n      <td>Is the man eating a hotdog?</td>\n      <td>65022</td>\n    </tr>\n    <tr>\n      <th>15</th>\n      <td>3371</td>\n      <td>What is the predominant color of the room?</td>\n      <td>33712</td>\n    </tr>\n    <tr>\n      <th>16</th>\n      <td>3371</td>\n      <td>Who will she give the bone to?</td>\n      <td>33710</td>\n    </tr>\n    <tr>\n      <th>17</th>\n      <td>3371</td>\n      <td>What is the woman holding?</td>\n      <td>33711</td>\n    </tr>\n    <tr>\n      <th>18</th>\n      <td>8788</td>\n      <td>Is the cat running?</td>\n      <td>87880</td>\n    </tr>\n    <tr>\n      <th>19</th>\n      <td>8788</td>\n      <td>Do these animals normally hang out together?</td>\n      <td>87881</td>\n    </tr>\n    <tr>\n      <th>20</th>\n      <td>8788</td>\n      <td>Is the mouse under the chair?</td>\n      <td>87882</td>\n    </tr>\n    <tr>\n      <th>21</th>\n      <td>10005</td>\n      <td>Is that a cat on the sofa?</td>\n      <td>100050</td>\n    </tr>\n    <tr>\n      <th>22</th>\n      <td>10005</td>\n      <td>How many pillows?</td>\n      <td>100051</td>\n    </tr>\n    <tr>\n      <th>23</th>\n      <td>10005</td>\n      <td>Is there books on the bookshelf?</td>\n      <td>100052</td>\n    </tr>\n    <tr>\n      <th>24</th>\n      <td>1527</td>\n      <td>How many people are in the room?</td>\n      <td>15272</td>\n    </tr>\n    <tr>\n      <th>25</th>\n      <td>1527</td>\n      <td>What color is the dog?</td>\n      <td>15270</td>\n    </tr>\n    <tr>\n      <th>26</th>\n      <td>1527</td>\n      <td>Is the man falling?</td>\n      <td>15271</td>\n    </tr>\n    <tr>\n      <th>27</th>\n      <td>2592</td>\n      <td>Is little baby trying to walk?</td>\n      <td>25920</td>\n    </tr>\n    <tr>\n      <th>28</th>\n      <td>2592</td>\n      <td>Is there a woman on the couch?</td>\n      <td>25921</td>\n    </tr>\n    <tr>\n      <th>29</th>\n      <td>2592</td>\n      <td>Is the couch sitting against the wall?</td>\n      <td>25922</td>\n    </tr>\n    <tr>\n      <th>...</th>\n      <td>...</td>\n      <td>...</td>\n      <td>...</td>\n    </tr>\n    <tr>\n      <th>59970</th>\n      <td>6757</td>\n      <td>What kind of dog is standing under the painting?</td>\n      <td>67570</td>\n    </tr>\n    <tr>\n      <th>59971</th>\n      <td>6757</td>\n      <td>What is in the dog's mouth?</td>\n      <td>67571</td>\n    </tr>\n    <tr>\n      <th>59972</th>\n      <td>6757</td>\n      <td>What color is the woman's hair?</td>\n      <td>67572</td>\n    </tr>\n    <tr>\n      <th>59973</th>\n      <td>15322</td>\n      <td>Is the woman eating subway?</td>\n      <td>153220</td>\n    </tr>\n    <tr>\n      <th>59974</th>\n      <td>15322</td>\n      <td>Is the man walking the cat due to the mouse?</td>\n      <td>153221</td>\n    </tr>\n    <tr>\n      <th>59975</th>\n      <td>15322</td>\n      <td>Is the girl scared of the mouse?</td>\n      <td>153222</td>\n    </tr>\n    <tr>\n      <th>59976</th>\n      <td>19209</td>\n      <td>Is anything on the stool?</td>\n      <td>192090</td>\n    </tr>\n    <tr>\n      <th>59977</th>\n      <td>19209</td>\n      <td>Is the amount of food on the table likely for ...</td>\n      <td>192091</td>\n    </tr>\n    <tr>\n      <th>59978</th>\n      <td>19209</td>\n      <td>Is there pizza?</td>\n      <td>192092</td>\n    </tr>\n    <tr>\n      <th>59979</th>\n      <td>11654</td>\n      <td>What is on the wall?</td>\n      <td>116540</td>\n    </tr>\n    <tr>\n      <th>59980</th>\n      <td>11654</td>\n      <td>Is the man's shirt blue?</td>\n      <td>116541</td>\n    </tr>\n    <tr>\n      <th>59981</th>\n      <td>11654</td>\n      <td>What color is the chair?</td>\n      <td>116542</td>\n    </tr>\n    <tr>\n      <th>59982</th>\n      <td>16809</td>\n      <td>What color is the sun?</td>\n      <td>168090</td>\n    </tr>\n    <tr>\n      <th>59983</th>\n      <td>16809</td>\n      <td>Who does the dog belong to?</td>\n      <td>168091</td>\n    </tr>\n    <tr>\n      <th>59984</th>\n      <td>16809</td>\n      <td>How many trees are there?</td>\n      <td>168092</td>\n    </tr>\n    <tr>\n      <th>59985</th>\n      <td>6056</td>\n      <td>Who is chasing a baseball?</td>\n      <td>60560</td>\n    </tr>\n    <tr>\n      <th>59986</th>\n      <td>6056</td>\n      <td>Will the boy use the slide?</td>\n      <td>60561</td>\n    </tr>\n    <tr>\n      <th>59987</th>\n      <td>6056</td>\n      <td>Do the mushrooms have spots?</td>\n      <td>60562</td>\n    </tr>\n    <tr>\n      <th>59988</th>\n      <td>5436</td>\n      <td>What color is the rug?</td>\n      <td>54360</td>\n    </tr>\n    <tr>\n      <th>59989</th>\n      <td>5436</td>\n      <td>Is the man answering the door?</td>\n      <td>54361</td>\n    </tr>\n    <tr>\n      <th>59990</th>\n      <td>5436</td>\n      <td>Where is the tablecloth?</td>\n      <td>54362</td>\n    </tr>\n    <tr>\n      <th>59991</th>\n      <td>12091</td>\n      <td>How many pillows are on the chair and sofa?</td>\n      <td>120912</td>\n    </tr>\n    <tr>\n      <th>59992</th>\n      <td>12091</td>\n      <td>Where is the woman?</td>\n      <td>120910</td>\n    </tr>\n    <tr>\n      <th>59993</th>\n      <td>12091</td>\n      <td>What is the cat doing?</td>\n      <td>120911</td>\n    </tr>\n    <tr>\n      <th>59994</th>\n      <td>11695</td>\n      <td>Has the sea saw been approved by the Consumer ...</td>\n      <td>116952</td>\n    </tr>\n    <tr>\n      <th>59995</th>\n      <td>11695</td>\n      <td>What color is the log the little girl sitting on?</td>\n      <td>116950</td>\n    </tr>\n    <tr>\n      <th>59996</th>\n      <td>11695</td>\n      <td>Does the boy want to go on the seesaw?</td>\n      <td>116951</td>\n    </tr>\n    <tr>\n      <th>59997</th>\n      <td>13790</td>\n      <td>What animal is between the two men?</td>\n      <td>137900</td>\n    </tr>\n    <tr>\n      <th>59998</th>\n      <td>13790</td>\n      <td>What food is by the picnic basket?</td>\n      <td>137901</td>\n    </tr>\n    <tr>\n      <th>59999</th>\n      <td>13790</td>\n      <td>What is the man holding?</td>\n      <td>137902</td>\n    </tr>\n  </tbody>\n</table>\n<p>60000 rows × 3 columns</p>\n</div>",
      "text/plain": "       image_id                                           question  \\\n0         11779                                 Who looks happier?   \n1         11779                        Where is the woman sitting?   \n2         11779                          Where is the man sitting?   \n3          5536                                Is this man hungry?   \n4          5536                        What kind of drink is that?   \n5          5536                          What color is the carpet?   \n6         16949                       Who is holding the football?   \n7         16949                                How is the weather?   \n8         16949      Does this woman tie her shoes in the morning?   \n9         19949             What is dangerous above the boys head?   \n10        19949                    What is the circle on the tree?   \n11        19949          What is growing besides trees and bushes?   \n12         6502                             Where are the flowers?   \n13         6502                            What did the girl kick?   \n14         6502                        Is the man eating a hotdog?   \n15         3371         What is the predominant color of the room?   \n16         3371                     Who will she give the bone to?   \n17         3371                         What is the woman holding?   \n18         8788                                Is the cat running?   \n19         8788       Do these animals normally hang out together?   \n20         8788                      Is the mouse under the chair?   \n21        10005                         Is that a cat on the sofa?   \n22        10005                                  How many pillows?   \n23        10005                   Is there books on the bookshelf?   \n24         1527                   How many people are in the room?   \n25         1527                             What color is the dog?   \n26         1527                                Is the man falling?   \n27         2592                     Is little baby trying to walk?   \n28         2592                     Is there a woman on the couch?   \n29         2592             Is the couch sitting against the wall?   \n...         ...                                                ...   \n59970      6757   What kind of dog is standing under the painting?   \n59971      6757                        What is in the dog's mouth?   \n59972      6757                    What color is the woman's hair?   \n59973     15322                        Is the woman eating subway?   \n59974     15322       Is the man walking the cat due to the mouse?   \n59975     15322                   Is the girl scared of the mouse?   \n59976     19209                          Is anything on the stool?   \n59977     19209  Is the amount of food on the table likely for ...   \n59978     19209                                    Is there pizza?   \n59979     11654                               What is on the wall?   \n59980     11654                           Is the man's shirt blue?   \n59981     11654                           What color is the chair?   \n59982     16809                             What color is the sun?   \n59983     16809                        Who does the dog belong to?   \n59984     16809                          How many trees are there?   \n59985      6056                         Who is chasing a baseball?   \n59986      6056                        Will the boy use the slide?   \n59987      6056                       Do the mushrooms have spots?   \n59988      5436                             What color is the rug?   \n59989      5436                     Is the man answering the door?   \n59990      5436                           Where is the tablecloth?   \n59991     12091        How many pillows are on the chair and sofa?   \n59992     12091                                Where is the woman?   \n59993     12091                             What is the cat doing?   \n59994     11695  Has the sea saw been approved by the Consumer ...   \n59995     11695  What color is the log the little girl sitting on?   \n59996     11695             Does the boy want to go on the seesaw?   \n59997     13790                What animal is between the two men?   \n59998     13790                 What food is by the picnic basket?   \n59999     13790                           What is the man holding?   \n\n       question_id  \n0           117792  \n1           117790  \n2           117791  \n3            55360  \n4            55361  \n5            55362  \n6           169490  \n7           169491  \n8           169492  \n9           199490  \n10          199491  \n11          199492  \n12           65020  \n13           65021  \n14           65022  \n15           33712  \n16           33710  \n17           33711  \n18           87880  \n19           87881  \n20           87882  \n21          100050  \n22          100051  \n23          100052  \n24           15272  \n25           15270  \n26           15271  \n27           25920  \n28           25921  \n29           25922  \n...            ...  \n59970        67570  \n59971        67571  \n59972        67572  \n59973       153220  \n59974       153221  \n59975       153222  \n59976       192090  \n59977       192091  \n59978       192092  \n59979       116540  \n59980       116541  \n59981       116542  \n59982       168090  \n59983       168091  \n59984       168092  \n59985        60560  \n59986        60561  \n59987        60562  \n59988        54360  \n59989        54361  \n59990        54362  \n59991       120912  \n59992       120910  \n59993       120911  \n59994       116952  \n59995       116950  \n59996       116951  \n59997       137900  \n59998       137901  \n59999       137902  \n\n[60000 rows x 3 columns]"
     },
     "execution_count": 74,
     "metadata": {},
     "output_type": "execute_result"
    }
   ],
   "source": [
    "vocab"
   ]
  },
  {
   "cell_type": "code",
   "execution_count": 59,
   "metadata": {},
   "outputs": [],
   "source": [
    "data=json_normalize(data)"
   ]
  },
  {
   "cell_type": "code",
   "execution_count": null,
   "metadata": {},
   "outputs": [],
   "source": []
  }
 ]
}